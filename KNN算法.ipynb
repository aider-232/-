{
 "cells": [
  {
   "cell_type": "code",
   "execution_count": 15,
   "id": "09acd5c9-5755-488a-8fd8-73ee2a2ff904",
   "metadata": {},
   "outputs": [
    {
     "data": {
      "image/png": "[encoded data removed]",
      "text/plain": [
       "<Figure size 500x500 with 1 Axes>"
      ]
     },
     "metadata": {},
     "output_type": "display_data"
    },
    {
     "name": "stdout",
     "output_type": "stream",
     "text": [
      "训练集形状: (56000, 784)\n",
      "测试集形状: (200, 784)\n"
     ]
    }
   ],
   "source": [
    "from sklearn.datasets import fetch_openml\n",
    "import numpy as np\n",
    "import matplotlib.pyplot as plt\n",
    "# 设置中文字体（根据系统选择合适的字体）\n",
    "plt.rcParams[\"font.family\"] = [\"Microsoft YaHei\"]\n",
    "# 解决负号显示问题（可选）\n",
    "plt.rcParams['axes.unicode_minus'] = False  # 正确显示负号\n",
    "\n",
    "'''\n",
    "加载MNIST数据\n",
    "'mnist_784'：数据集的唯一标识符（在 OpenML 中名为 \"mnist_784\"）\n",
    "version=1：指定数据集版本（避免未来数据更新导致结果不一致）\n",
    "as_frame=False：返回 NumPy 数组而非 Pandas DataFrame（便于机器学习处理）\n",
    "'''\n",
    "\n",
    "mnist = fetch_openml('mnist_784', version=1, as_frame=False)\n",
    "X, y = mnist['data'], mnist['target']\n",
    "\n",
    "sample_idx = 0   # 随便选1个图像显示\n",
    "sample_image = X[sample_idx].reshape(28, 28)  # 重塑为28×28矩阵\n",
    "\n",
    "plt.figure(figsize=(5, 5))\n",
    "plt.imshow(sample_image, cmap='gray')\n",
    "plt.title(f\"标签: {y[sample_idx]}\")\n",
    "plt.axis('on')  # 关闭坐标轴\n",
    "plt.show()\n",
    "\n",
    "ratio = 0.8\n",
    "split = int(len(X)*ratio)\n",
    "\n",
    "np.random.seed(0)\n",
    "idx = np.random.permutation(np.arange(len(X))) # 若X长度为 5，np.arange(len(X))生成[0, 1, 2, 3, 4]，随机排列后可能变为[3, 0, 4, 1, 2]。\n",
    "# 数据重排：X=X[idx] 和 y=y[idx] 借助高级索引的方式，依据随机生成的索引 idx 对 X 和 y 里的元素进行重新排列。\n",
    "X=X[idx]\n",
    "y=y[idx]\n",
    "\n",
    "# 划分训练集和测试集\n",
    "# x_train, x_test = X[:split], X[split:]\n",
    "# y_train, y_test = y[:split], y[split:]\n",
    "x_train, x_test = X[:split], X[split:split+200]\n",
    "y_train, y_test = y[:split], y[split:split+200]\n",
    "\n",
    "print(\"训练集形状:\", x_train.shape)  # (60000, 784)\n",
    "print(\"测试集形状:\", x_test.shape)   # (10000, 784)"
   ]
  },
  {
   "cell_type": "code",
   "execution_count": 16,
   "id": "e25f225a-504a-4cd2-8b6a-13d4c8649362",
   "metadata": {},
   "outputs": [],
   "source": [
    "def distance(a,b):# 定义了一个计算欧几里得距离的函数\n",
    "    return np.sqrt(np.sum(np.square(a-b)))"
   ]
  },
  {
   "cell_type": "code",
   "execution_count": 17,
   "id": "951b1bce",
   "metadata": {},
   "outputs": [],
   "source": [
    "class KNN:\n",
    "    def __init__(self,k,label_num):\n",
    "        self.k = k\n",
    "        self.label_num = label_num # 类别的数量\n",
    "    def fit(self,x_train,y_train):\n",
    "        # 在类中保存训练数据\n",
    "        self.x_train = x_train\n",
    "        self.y_train = y_train\n",
    "    def get_knn_indices(self,x):\n",
    "        # 获取距离目标样本点最近的K个样本点的下标\n",
    "        # 计算已知样本到目标样本的距离\n",
    "        dis = list(map(lambda a:distance(a,x),self.x_train))\n",
    "        # 按距离从小到大排序，并得到对应的下标\n",
    "        knn_indices = np.argsort(dis)\n",
    "        # 取最近的K个下标\n",
    "        knn_indices = knn_indices[:self.k]\n",
    "        return knn_indices\n",
    "    def get_label(self,x):\n",
    "        # 对KNN方法的具体实现，观察K个近邻并使用np.argmax获取其中数量最多的类别\n",
    "        knn_indices =self.get_knn_indices(x)\n",
    "        # 类别计数\n",
    "        label_statistic = np.zeros(shape=[self.label_num])\n",
    "        for index in knn_indices:\n",
    "            label = int(self.y_train[index])\n",
    "            label_statistic[label] += 1\n",
    "        # 返回数量最多的类别\n",
    "        return np.argmax(label_statistic)\n",
    "    def predict(self,x_test):\n",
    "        # 预测样本test_x的类别 \n",
    "        predicted_test_labels = np.zeros(shape=[len(x_test)],dtype=int)\n",
    "        for i,x in enumerate(x_test):\n",
    "            predicted_test_labels[i] = self.get_label(x)\n",
    "        return predicted_test_labels"
   ]
  },
  {
   "cell_type": "code",
   "execution_count": 18,
   "id": "b4fe71b8",
   "metadata": {},
   "outputs": [
    {
     "name": "stdout",
     "output_type": "stream",
     "text": [
      "当前k值: 1, 模型k参数: 1\n",
      "[2 7 7 3 1 3 1 7 3 7 2 0 2 7 4 2 0 1 5 8 4 1 6 2 9 2 5 3 7 7 3 4 1 9 8 3 2\n",
      " 0 4 1 7 4 9 8 0 6 5 7 2 2 1 1 9 5 6 5 8 6 3 0 6 2 4 7 9 0 6 3 0 4 9 8 3 6\n",
      " 6 4 9 2 3 7 4 9 4 7 2 5 4 4 9 5 6 7 0 4 2 3 6 2 7 9 1 0 1 5 3 5 6 1 2 5 5\n",
      " 5 7 0 2 2 5 4 5 3 0 9 5 2 6 7 7 1 9 7 6 1 2 9 1 7 1 7 3 2 6 2 5 6 2 2 8 4\n",
      " 6 4 7 1 4 9 4 1 0 2 8 7 4 4 0 4 6 9 1 1 6 5 2 2 8 9 3 4 8 9 7 6 2 2 9 7 0\n",
      " 7 6 8 7 3 2 7 4 9 0 6 0 4 5 4]\n",
      "[2 7 7 3 1 3 1 7 3 7 2 0 2 7 4 2 0 1 5 8 4 1 6 2 9 2 5 3 7 7 3 4 1 9 8 3 2\n",
      " 0 4 1 7 4 9 8 0 6 5 7 2 2 1 1 9 5 6 5 8 6 3 0 6 2 4 7 9 0 6 3 0 4 3 8 3 6\n",
      " 6 4 9 2 3 7 4 9 4 7 2 5 4 4 9 5 6 7 0 4 2 3 6 2 7 9 1 0 1 4 3 5 6 1 2 5 5\n",
      " 5 7 0 0 2 5 4 5 3 0 9 5 2 6 7 7 1 9 7 6 1 2 9 1 7 1 7 3 2 6 2 5 6 2 0 8 4\n",
      " 6 4 7 1 4 9 4 1 0 2 8 7 4 4 0 4 6 9 1 1 6 5 2 2 8 9 3 4 4 9 7 6 2 2 9 7 0\n",
      " 7 6 4 7 3 2 7 4 9 0 6 0 4 5 4]\n",
      "k的取值为1，预测准确率为97.0%\n",
      "当前k值: 2, 模型k参数: 2\n",
      "[2 7 7 3 1 3 1 7 3 7 2 0 2 7 4 2 0 1 5 8 4 1 6 2 9 2 5 3 7 7 3 4 1 9 8 3 2\n",
      " 0 4 1 7 4 9 8 0 6 5 7 2 2 1 1 9 5 6 5 8 6 3 0 6 2 4 7 9 0 6 3 0 4 9 8 3 6\n",
      " 6 4 9 2 3 7 4 9 4 7 2 5 4 4 9 5 6 7 0 4 2 3 6 2 7 9 1 0 1 5 3 5 6 1 2 5 5\n",
      " 5 7 0 2 2 5 4 5 3 0 9 5 2 6 7 7 1 9 7 6 1 2 9 1 7 1 7 3 2 6 2 5 6 2 2 8 4\n",
      " 6 4 7 1 4 9 4 1 0 2 8 7 4 4 0 4 6 9 1 1 6 5 2 2 8 9 3 4 8 9 7 6 2 2 9 7 0\n",
      " 7 6 8 7 3 2 7 4 9 0 6 0 4 5 4]\n",
      "[2 7 7 3 1 3 1 7 3 7 2 0 2 7 4 2 0 1 5 8 4 1 6 2 9 2 5 3 7 7 3 4 1 9 8 3 2\n",
      " 0 4 1 7 4 9 8 0 6 5 7 2 2 1 1 9 5 6 5 8 6 3 0 6 2 4 7 9 0 6 3 0 4 3 8 3 6\n",
      " 6 4 9 2 3 7 4 9 4 7 2 5 4 4 9 5 6 7 0 4 2 3 6 2 7 9 1 0 1 4 3 5 6 1 2 5 1\n",
      " 5 7 0 0 2 5 4 5 3 0 9 5 2 6 7 7 1 9 7 6 1 2 9 1 7 1 7 3 2 6 2 5 6 2 0 8 4\n",
      " 6 4 7 1 4 9 4 1 0 2 7 7 4 4 0 4 6 9 1 1 6 5 2 2 8 9 3 4 4 9 7 6 2 2 9 7 0\n",
      " 7 6 4 7 3 2 7 4 9 0 6 0 4 5 4]\n",
      "k的取值为2，预测准确率为96.0%\n",
      "当前k值: 3, 模型k参数: 3\n",
      "[2 7 7 3 1 3 1 7 3 7 2 0 2 7 4 2 0 1 5 8 4 1 6 2 9 2 5 3 7 7 3 4 1 9 8 3 2\n",
      " 0 4 1 7 4 9 8 0 6 5 7 2 2 1 1 9 5 6 5 8 6 3 0 6 2 4 7 9 0 6 3 0 4 9 8 3 6\n",
      " 6 4 9 2 3 7 4 9 4 7 2 5 4 4 9 5 6 7 0 4 2 3 6 2 7 9 1 0 1 5 3 5 6 1 2 5 5\n",
      " 5 7 0 2 2 5 4 5 3 0 9 5 2 6 7 7 1 9 7 6 1 2 9 1 7 1 7 3 2 6 2 5 6 2 2 8 4\n",
      " 6 4 7 1 4 9 4 1 0 2 8 7 4 4 0 4 6 9 1 1 6 5 2 2 8 9 3 4 8 9 7 6 2 2 9 7 0\n",
      " 7 6 8 7 3 2 7 4 9 0 6 0 4 5 4]\n",
      "[2 7 7 3 1 3 1 7 3 7 2 0 2 7 4 2 0 1 5 8 4 1 6 2 9 2 5 3 7 7 3 4 1 9 8 3 2\n",
      " 0 4 1 7 4 9 8 0 6 5 7 2 2 1 1 9 5 6 5 8 6 3 0 6 2 4 7 9 0 6 3 0 4 3 8 3 6\n",
      " 6 4 9 2 3 7 4 9 4 7 2 5 4 4 9 5 6 7 0 4 2 3 6 2 7 9 1 0 1 9 3 5 6 1 2 5 1\n",
      " 5 7 0 0 2 5 4 5 3 0 9 5 2 6 7 7 1 9 7 6 1 2 9 1 7 1 7 3 2 6 2 5 6 2 0 8 4\n",
      " 6 4 7 1 4 9 4 1 0 2 7 7 4 4 0 4 6 9 1 1 6 5 2 2 8 9 3 4 4 9 7 6 2 2 9 7 0\n",
      " 7 6 4 7 3 2 7 4 9 0 6 0 4 5 4]\n",
      "k的取值为3，预测准确率为96.0%\n",
      "当前k值: 4, 模型k参数: 4\n",
      "[2 7 7 3 1 3 1 7 3 7 2 0 2 7 4 2 0 1 5 8 4 1 6 2 9 2 5 3 7 7 3 4 1 9 8 3 2\n",
      " 0 4 1 7 4 9 8 0 6 5 7 2 2 1 1 9 5 6 5 8 6 3 0 6 2 4 7 9 0 6 3 0 4 9 8 3 6\n",
      " 6 4 9 2 3 7 4 9 4 7 2 5 4 4 9 5 6 7 0 4 2 3 6 2 7 9 1 0 1 5 3 5 6 1 2 5 5\n",
      " 5 7 0 2 2 5 4 5 3 0 9 5 2 6 7 7 1 9 7 6 1 2 9 1 7 1 7 3 2 6 2 5 6 2 2 8 4\n",
      " 6 4 7 1 4 9 4 1 0 2 8 7 4 4 0 4 6 9 1 1 6 5 2 2 8 9 3 4 8 9 7 6 2 2 9 7 0\n",
      " 7 6 8 7 3 2 7 4 9 0 6 0 4 5 4]\n",
      "[2 7 7 3 1 3 1 7 3 7 2 0 2 7 4 2 0 1 5 8 4 1 6 2 9 2 5 3 7 7 3 4 1 9 8 3 2\n",
      " 0 4 1 7 4 9 8 0 6 5 7 2 2 1 1 9 5 6 5 8 6 3 0 6 2 4 7 9 0 6 3 0 4 3 8 3 6\n",
      " 6 4 9 2 3 7 4 9 4 7 2 5 4 4 9 5 6 7 0 4 2 3 6 2 7 9 1 0 1 9 3 5 6 1 2 5 1\n",
      " 5 7 0 0 2 5 4 5 3 0 9 5 2 6 7 7 1 9 7 6 1 2 9 1 7 1 7 3 2 6 2 5 6 2 0 8 4\n",
      " 6 4 7 1 4 9 4 1 0 2 7 7 4 4 0 4 6 9 1 1 6 5 2 2 8 9 3 4 4 9 7 6 2 2 9 7 0\n",
      " 7 6 4 7 3 2 7 4 9 0 6 0 4 5 4]\n",
      "k的取值为4，预测准确率为96.0%\n"
     ]
    }
   ],
   "source": [
    "for k in range(1,5):\n",
    "    knn = KNN(k,label_num=10)\n",
    "    print(f\"当前k值: {k}, 模型k参数: {knn.k}\")  # 确认k是否正确传入模型\n",
    "    # ... 其余代码保持不变\n",
    "    knn.fit(x_train,y_train)\n",
    "    predicted_labels = knn.predict(x_test)\n",
    "    # # 修改部分：将 y_test 转换为整数类型\n",
    "    y_test_int = y_test.astype(int)\n",
    "    print(y_test_int)\n",
    "    print(predicted_labels)\n",
    "    accuracy = np.mean(predicted_labels == y_test_int)\n",
    "    print(f'k的取值为{k}，预测准确率为{accuracy * 100:.1f}%')\n",
    "    "
   ]
  },
  {
   "cell_type": "code",
   "execution_count": null,
   "id": "9fd497fc",
   "metadata": {},
   "outputs": [],
   "source": []
  }
 ],
 "metadata": {
  "kernelspec": {
   "display_name": "base",
   "language": "python",
   "name": "python3"
  },
  "language_info": {
   "codemirror_mode": {
    "name": "ipython",
    "version": 3
   },
   "file_extension": ".py",
   "mimetype": "text/x-python",
   "name": "python",
   "nbconvert_exporter": "python",
   "pygments_lexer": "ipython3",
   "version": "3.12.7"
  }
 },
 "nbformat": 4,
 "nbformat_minor": 5
}
